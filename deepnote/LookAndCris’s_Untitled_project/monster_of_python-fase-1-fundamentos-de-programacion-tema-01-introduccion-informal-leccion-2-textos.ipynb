{
  "cells": [
    {
      "cell_type": "markdown",
      "source": "# Textos (cadenas de caracteres)",
      "metadata": {
        "cell_id": "1b771300ad7d4d87969e8190f54291cf",
        "deepnote_cell_type": "markdown"
      },
      "block_group": "2f486b0562db46908a25f3e565773f33"
    },
    {
      "cell_type": "code",
      "source": "'Mirando funcionalidades de deepnote'",
      "metadata": {
        "collapsed": false,
        "source_hash": "29cf3778",
        "execution_start": 1737240729981,
        "execution_millis": 0,
        "execution_context_id": "aecaa580-e656-47fd-be10-055bd871380e",
        "cell_id": "4c8e0de15a814538a4dd08b7b1536d0c",
        "deepnote_cell_type": "code"
      },
      "outputs": [],
      "outputs_reference": null,
      "execution_count": 3,
      "block_group": "94360055f26a4b6ebec32e006f0ceec9",
      "content_dependencies": null
    },
    {
      "cell_type": "code",
      "source": "\"Hola Mundo\"",
      "metadata": {
        "collapsed": false,
        "cell_id": "83bd57a62c6c40139d625535b6cd3bfa",
        "deepnote_cell_type": "code"
      },
      "outputs": [],
      "outputs_reference": null,
      "execution_count": 2,
      "block_group": "c80f7c25016a412c88904655d19ae8c5",
      "content_dependencies": null
    },
    {
      "cell_type": "code",
      "source": "'Este texto incluye unas \" \" '",
      "metadata": {
        "collapsed": false,
        "cell_id": "0b92e712b6a449d4abd6a9a562f88535",
        "deepnote_cell_type": "code"
      },
      "outputs": [],
      "outputs_reference": null,
      "execution_count": 3,
      "block_group": "e77855a6b1554efd8d4576d6becbec58",
      "content_dependencies": null
    },
    {
      "cell_type": "code",
      "source": "\"Esta 'palabra' se encuentra escrita entre comillas simples\"",
      "metadata": {
        "collapsed": false,
        "cell_id": "946ac13503444b0a8c23920f4b5fce03",
        "deepnote_cell_type": "code"
      },
      "outputs": [],
      "outputs_reference": null,
      "execution_count": 4,
      "block_group": "bc85ec783af14ebda369cf65bb747a58",
      "content_dependencies": null
    },
    {
      "cell_type": "code",
      "source": "\"Esta \\\"palabra\\\" se encuentra escrita entre comillas dobles\"",
      "metadata": {
        "collapsed": false,
        "cell_id": "1f9e6b1de08146679208eb665d33a675",
        "deepnote_cell_type": "code"
      },
      "outputs": [],
      "outputs_reference": null,
      "execution_count": 5,
      "block_group": "3a915ef59a79400b868d4fde432b240c",
      "content_dependencies": null
    },
    {
      "cell_type": "code",
      "source": "'Esta \\'palabra\\' se encuentra escrita entre comillas dobles'",
      "metadata": {
        "collapsed": false,
        "cell_id": "60aa36efddb1435194e0080c5d0c9bf2",
        "deepnote_cell_type": "code"
      },
      "outputs": [],
      "outputs_reference": null,
      "execution_count": 6,
      "block_group": "e9f9f6dd77a341b59a042589d6128e33",
      "content_dependencies": null
    },
    {
      "cell_type": "markdown",
      "source": "## La función print()\nEs una instrucción que nos permite mostrar correctamente el valor de una cadena (u otros valores/variables) por pantalla.",
      "metadata": {
        "cell_id": "8f6b063bdc1d46bab81228c63f70b256",
        "deepnote_cell_type": "markdown"
      },
      "block_group": "3e87e116913048cf900c6031998cdda2"
    },
    {
      "cell_type": "code",
      "source": "\"Una cadena\"\n'otra cadena'\n'otra cadena más'",
      "metadata": {
        "collapsed": false,
        "cell_id": "f11c0b13ec7a402fa2411b71670f4879",
        "deepnote_cell_type": "code"
      },
      "outputs": [],
      "outputs_reference": null,
      "execution_count": 7,
      "block_group": "16dab9fccaec4b328387cbce2b0cf673",
      "content_dependencies": null
    },
    {
      "cell_type": "code",
      "source": "print(\"Una cadena\")\nprint('otra cadena')\nprint('otra cadena más')",
      "metadata": {
        "collapsed": false,
        "cell_id": "d35f007eeeee47ef9e6332fc6a23fab6",
        "deepnote_cell_type": "code"
      },
      "outputs": [],
      "outputs_reference": null,
      "execution_count": 8,
      "block_group": "e8954847483d457295a48948a3974c0d",
      "content_dependencies": null
    },
    {
      "cell_type": "markdown",
      "source": "#### Acepta carácteres especiales como las tabulaciones /t o los saltos de línea /n",
      "metadata": {
        "cell_id": "0f96a17367854f1b96f188d7745fec86",
        "deepnote_cell_type": "markdown"
      },
      "block_group": "955a37bcda48423c81eceaab3cf8062f"
    },
    {
      "cell_type": "code",
      "source": "print(\"Un texto\\tuna tabulación\")",
      "metadata": {
        "collapsed": false,
        "cell_id": "ae5a97fd37764290b9526884a0d4aa72",
        "deepnote_cell_type": "code"
      },
      "outputs": [],
      "outputs_reference": null,
      "execution_count": 9,
      "block_group": "d15d71015b3f412ba9684e60f1a4c3b7",
      "content_dependencies": null
    },
    {
      "cell_type": "code",
      "source": "print(\"Un texto\\nuna nueva línea\")",
      "metadata": {
        "collapsed": false,
        "cell_id": "202ef978122e44d68eb381aaf06f085d",
        "deepnote_cell_type": "code"
      },
      "outputs": [],
      "outputs_reference": null,
      "execution_count": 10,
      "block_group": "200f22f6d29943f0bb030b7c0da8b6d2",
      "content_dependencies": null
    },
    {
      "cell_type": "markdown",
      "source": "#### Para evitar los carácteres especiales, debemos indicar que una cadena es cruda (raw)",
      "metadata": {
        "cell_id": "4eb5fbf6ef814adb82f3a416afb83bc4",
        "deepnote_cell_type": "markdown"
      },
      "block_group": "73fdf524e4224636a2cacd76a78f7cee"
    },
    {
      "cell_type": "code",
      "source": "print(\"C:\\nombre\\directorio\")",
      "metadata": {
        "collapsed": false,
        "cell_id": "4820877e86d847c6b4a1a2655b11b72e",
        "deepnote_cell_type": "code"
      },
      "outputs": [],
      "outputs_reference": null,
      "execution_count": 11,
      "block_group": "a29de35b8c4a426c99067fa1b070029e",
      "content_dependencies": null
    },
    {
      "cell_type": "code",
      "source": "print(r\"C:\\nombre\\directorio\")  # r => raw (cruda)",
      "metadata": {
        "collapsed": false,
        "cell_id": "540eb0c9d2644307b3cc0574499dfd91",
        "deepnote_cell_type": "code"
      },
      "outputs": [],
      "outputs_reference": null,
      "execution_count": 12,
      "block_group": "67fef7a1f20946a3b74aafc6b65f0407",
      "content_dependencies": null
    },
    {
      "cell_type": "markdown",
      "source": "#### Podemos utilizar \"\"\" *(triple comillas)* para cadenas multilínea",
      "metadata": {
        "cell_id": "86916c2d916842ba9849b0a77af67a87",
        "deepnote_cell_type": "markdown"
      },
      "block_group": "b5ece536cb8548f4a84f8b826b78a565"
    },
    {
      "cell_type": "code",
      "source": "print(\"\"\"Una línea\notra línea\notra línea\\tuna tabulación\"\"\")",
      "metadata": {
        "collapsed": false,
        "cell_id": "05f74a4addb244d68cb5e5e93eddcc3d",
        "deepnote_cell_type": "code"
      },
      "outputs": [],
      "outputs_reference": null,
      "execution_count": 13,
      "block_group": "0db93aa65b1b498190c99cc39fa98827",
      "content_dependencies": null
    },
    {
      "cell_type": "markdown",
      "source": "#### También es posible asignar cadenas a variables\nLa forma correcta de mostrarlas es con la instrucción print().",
      "metadata": {
        "cell_id": "449eb0b7befa4398bf31cae127cd866f",
        "deepnote_cell_type": "markdown"
      },
      "block_group": "10fe8a6a068b4683bf763b3cb0c06962"
    },
    {
      "cell_type": "code",
      "source": "c = \"Esto es una cadena\\ncon dos líneas\"",
      "metadata": {
        "collapsed": true,
        "cell_id": "9c3f4080d9bc4d6e9d10a35856796250",
        "deepnote_cell_type": "code"
      },
      "outputs": [],
      "outputs_reference": null,
      "execution_count": 14,
      "block_group": "50249a6ab54548fdb09335044173d88a",
      "content_dependencies": null
    },
    {
      "cell_type": "code",
      "source": "c",
      "metadata": {
        "collapsed": false,
        "cell_id": "c23a72cdd9f64b27986a20931fbb9e1f",
        "deepnote_cell_type": "code"
      },
      "outputs": [],
      "outputs_reference": null,
      "execution_count": 15,
      "block_group": "dc35b21d3ceb4aa3ab3548d7ba732c0c",
      "content_dependencies": null
    },
    {
      "cell_type": "code",
      "source": "print(c)",
      "metadata": {
        "collapsed": false,
        "cell_id": "332ec6f9703149c390f4897f68d592c6",
        "deepnote_cell_type": "code"
      },
      "outputs": [],
      "outputs_reference": null,
      "execution_count": 16,
      "block_group": "bc24468f5e4b4377bea83844b0a6e105",
      "content_dependencies": null
    },
    {
      "cell_type": "markdown",
      "source": "## Operaciones\nUna de las operaciones de las cadenas es la concatenación (o suma de cadenas)",
      "metadata": {
        "cell_id": "0f26f64a8ca049b0bdba82a6aa857b36",
        "deepnote_cell_type": "markdown"
      },
      "block_group": "0ba1fd716b5d44599848910ff605d617"
    },
    {
      "cell_type": "code",
      "source": "c + c",
      "metadata": {
        "collapsed": false,
        "cell_id": "b6686f9f057446e882e969846c6d79db",
        "deepnote_cell_type": "code"
      },
      "outputs": [],
      "outputs_reference": null,
      "execution_count": 17,
      "block_group": "8c0d088e26dd4fbeb1c889abe13a8110",
      "content_dependencies": null
    },
    {
      "cell_type": "code",
      "source": "print(c+c)",
      "metadata": {
        "collapsed": false,
        "cell_id": "9356df99703c42f1843766506984494a",
        "deepnote_cell_type": "code"
      },
      "outputs": [],
      "outputs_reference": null,
      "execution_count": 18,
      "block_group": "ab0e06f7f9d647bc99e87487e90db172",
      "content_dependencies": null
    },
    {
      "cell_type": "code",
      "source": "s = \"Una cadena\" \" compuesta de dos cadenas\"\nprint(s)",
      "metadata": {
        "collapsed": false,
        "cell_id": "601b17502a8a4e79a3e409a256a79906",
        "deepnote_cell_type": "code"
      },
      "outputs": [],
      "outputs_reference": null,
      "execution_count": 19,
      "block_group": "beffc7596bf74af68ad245d0b48252c0",
      "content_dependencies": null
    },
    {
      "cell_type": "code",
      "source": "c1 = \"Una cadena\"\nc2 = \"otra cadena\"\nprint(\"Una cadena \" + c2)",
      "metadata": {
        "collapsed": false,
        "cell_id": "dc89fd2e1d9d4ca8a9919aa4e07fafca",
        "deepnote_cell_type": "code"
      },
      "outputs": [],
      "outputs_reference": null,
      "execution_count": 20,
      "block_group": "ac0e385b1c6e433d8a622888a974bcbb",
      "content_dependencies": null
    },
    {
      "cell_type": "markdown",
      "source": "#### También es posible utilizar la multiplicación de cadenas",
      "metadata": {
        "cell_id": "b675e312bfb34b62b98f062375c4f1be",
        "deepnote_cell_type": "markdown"
      },
      "block_group": "e9b23c30077b4045943b29a72e5781fe"
    },
    {
      "cell_type": "code",
      "source": "diez_espacios = \" \" * 10\nprint(diez_espacios + \"un texto a diez espacios\")",
      "metadata": {
        "collapsed": false,
        "cell_id": "8bd3fb6c27974ff08836be5ebd7006ba",
        "deepnote_cell_type": "code"
      },
      "outputs": [],
      "outputs_reference": null,
      "execution_count": 21,
      "block_group": "d5bedfe2eb7a465b8428fedb396c0e37",
      "content_dependencies": null
    },
    {
      "cell_type": "markdown",
      "source": "## Índices en las cadenas\nLos índices nos permiten posicionarnos en un carácter específico de una cadena.\n\nRepresentan un número [índice], que empezando por el 0 indica el carácter de la primera posición, y así sucesivamente.",
      "metadata": {
        "cell_id": "325e9c85a7f54c7ca27954ddb665c1fb",
        "deepnote_cell_type": "markdown"
      },
      "block_group": "d0f04ebd04c243bf97b71eb31117d7b4"
    },
    {
      "cell_type": "code",
      "source": "palabra = \"Python\"",
      "metadata": {
        "collapsed": true,
        "cell_id": "b4f3b12cd61b4175b0118cc87b7e507c",
        "deepnote_cell_type": "code"
      },
      "outputs": [],
      "outputs_reference": null,
      "execution_count": 22,
      "block_group": "9d86c4c51ab44ac486a7704bebb6e88d",
      "content_dependencies": null
    },
    {
      "cell_type": "code",
      "source": "palabra[0] # carácter en la posición 0",
      "metadata": {
        "collapsed": false,
        "cell_id": "9510a41c5cd44a60bde074b765079d10",
        "deepnote_cell_type": "code"
      },
      "outputs": [],
      "outputs_reference": null,
      "execution_count": 23,
      "block_group": "8666e535423f49cbacb88ab3d57aff7f",
      "content_dependencies": null
    },
    {
      "cell_type": "code",
      "source": "palabra[3]",
      "metadata": {
        "collapsed": false,
        "cell_id": "257e92134e0e4a2eafd5d627d0cf5b2a",
        "deepnote_cell_type": "code"
      },
      "outputs": [],
      "outputs_reference": null,
      "execution_count": 24,
      "block_group": "892911f41da44306a372bcf8309e66b9",
      "content_dependencies": null
    },
    {
      "cell_type": "markdown",
      "source": "#### El índice negativo -1, hace referencia al carácter de la última posición, el -2 al penúltimo y así sucesivamente",
      "metadata": {
        "cell_id": "5d1553f5980845e085127974dbc2d611",
        "deepnote_cell_type": "markdown"
      },
      "block_group": "af8099d82deb4eba9dd036026d3b4aeb"
    },
    {
      "cell_type": "code",
      "source": "palabra[-1]",
      "metadata": {
        "collapsed": false,
        "cell_id": "86643f7d4a774a339f0d2f19630f0cd8",
        "deepnote_cell_type": "code"
      },
      "outputs": [],
      "outputs_reference": null,
      "execution_count": 25,
      "block_group": "39a9f05cbfc74adc8e3be6b4b09ea498",
      "content_dependencies": null
    },
    {
      "cell_type": "code",
      "source": "palabra[-0]",
      "metadata": {
        "collapsed": false,
        "cell_id": "ac43fc593b7c467ab183e291c2659155",
        "deepnote_cell_type": "code"
      },
      "outputs": [],
      "outputs_reference": null,
      "execution_count": 26,
      "block_group": "03a2897ac853448aad2f7191c2dea946",
      "content_dependencies": null
    },
    {
      "cell_type": "code",
      "source": "palabra[-2]",
      "metadata": {
        "collapsed": false,
        "cell_id": "6f1349294ed144c587d2de2c9522279b",
        "deepnote_cell_type": "code"
      },
      "outputs": [],
      "outputs_reference": null,
      "execution_count": 27,
      "block_group": "bdbc12c92b2b439da01f450e4411b6bc",
      "content_dependencies": null
    },
    {
      "cell_type": "code",
      "source": "palabra[-6]",
      "metadata": {
        "collapsed": false,
        "cell_id": "e8ff9bebc8994a23b6efacfc8245db6b",
        "deepnote_cell_type": "code"
      },
      "outputs": [],
      "outputs_reference": null,
      "execution_count": 28,
      "block_group": "85e9e4c96a684d278fa1832f2534eec8",
      "content_dependencies": null
    },
    {
      "cell_type": "code",
      "source": "palabra[5]",
      "metadata": {
        "collapsed": false,
        "cell_id": "43afcdcc1f1b4c0c8fdb497a15dd81dc",
        "deepnote_cell_type": "code"
      },
      "outputs": [],
      "outputs_reference": null,
      "execution_count": 29,
      "block_group": "97945d13d9824b91abc173f994e49fb7",
      "content_dependencies": null
    },
    {
      "cell_type": "markdown",
      "source": "## Slicing en las cadenas\nEl slicing es una capacidad de las cadenas que devuelve un subconjunto o subcadena utilizando dos índices [inicio:fin]:\n- El primer índice indica donde empieza la subcadena (se incluye el carácter).\n- El segundo índice indica donde acaba la subcadena (se excluye el carácter).",
      "metadata": {
        "cell_id": "32c0affcb0aa46c883ba3fcd46d1a6e3",
        "deepnote_cell_type": "markdown"
      },
      "block_group": "c3951e7f379b46aab6c21783b7334984"
    },
    {
      "cell_type": "code",
      "source": "palabra = \"Python\"",
      "metadata": {
        "collapsed": true,
        "cell_id": "3b46e7bc2c2e4555ab29dad06a6b55c2",
        "deepnote_cell_type": "code"
      },
      "outputs": [],
      "outputs_reference": null,
      "execution_count": 30,
      "block_group": "5d93b9addeef4d829af7039919831fe0",
      "content_dependencies": null
    },
    {
      "cell_type": "code",
      "source": "palabra[0:2]",
      "metadata": {
        "collapsed": false,
        "cell_id": "00d8f9176b5b45a28c1a367ec09df42c",
        "deepnote_cell_type": "code"
      },
      "outputs": [],
      "outputs_reference": null,
      "execution_count": 31,
      "block_group": "6516eda1814146a19829faba161ac41f",
      "content_dependencies": null
    },
    {
      "cell_type": "code",
      "source": "palabra[2:]",
      "metadata": {
        "collapsed": false,
        "cell_id": "de1aefabd5f945beb41425ba28cb21bc",
        "deepnote_cell_type": "code"
      },
      "outputs": [],
      "outputs_reference": null,
      "execution_count": 32,
      "block_group": "82c88f07268442ae8de570e913f45cf7",
      "content_dependencies": null
    },
    {
      "cell_type": "code",
      "source": "palabra[:2]",
      "metadata": {
        "collapsed": false,
        "cell_id": "a23f8310fe854bdebfb0b022235f3b40",
        "deepnote_cell_type": "code"
      },
      "outputs": [],
      "outputs_reference": null,
      "execution_count": 33,
      "block_group": "b851b19312dc42fbacb580b23eeb18f8",
      "content_dependencies": null
    },
    {
      "cell_type": "markdown",
      "source": "#### Si en el slicing no se indica un índice se toma por defecto el principio y el final (incluídos)",
      "metadata": {
        "cell_id": "b74ac331ebcb49cf836b476b61cc1d77",
        "deepnote_cell_type": "markdown"
      },
      "block_group": "79ccdd1413654d9689ad5d9c14d8319a"
    },
    {
      "cell_type": "code",
      "source": "palabra[:]",
      "metadata": {
        "collapsed": false,
        "cell_id": "321d1c91cccb46dcb96e4c9dc2da08e1",
        "deepnote_cell_type": "code"
      },
      "outputs": [],
      "outputs_reference": null,
      "execution_count": 34,
      "block_group": "e424dc0491154a5ca3ea5f2bfeed8ea1",
      "content_dependencies": null
    },
    {
      "cell_type": "code",
      "source": "palabra[:2] + palabra[2:]",
      "metadata": {
        "collapsed": false,
        "cell_id": "79852aa869c1428eba45c1c502f6c97b",
        "deepnote_cell_type": "code"
      },
      "outputs": [],
      "outputs_reference": null,
      "execution_count": 35,
      "block_group": "a0858dd7d3f549358291ee23ca067322",
      "content_dependencies": null
    },
    {
      "cell_type": "code",
      "source": "palabra[-2:]",
      "metadata": {
        "collapsed": false,
        "cell_id": "e1e4f25e4a224df0bd97bdf33cf46692",
        "deepnote_cell_type": "code"
      },
      "outputs": [],
      "outputs_reference": null,
      "execution_count": 36,
      "block_group": "1730d12ca0b54d68a9e671427a19e39d",
      "content_dependencies": null
    },
    {
      "cell_type": "markdown",
      "source": "#### Si un índice se encuentra fuera del rango de la cadena, dará error",
      "metadata": {
        "cell_id": "52573029a3eb4ea58f1420eb898f6cc9",
        "deepnote_cell_type": "markdown"
      },
      "block_group": "9157ab23308f43409d2e73cdbff1d5e8"
    },
    {
      "cell_type": "code",
      "source": "palabra[99]",
      "metadata": {
        "collapsed": false,
        "cell_id": "3f7371dde17a4025a526915c9c264570",
        "deepnote_cell_type": "code"
      },
      "outputs": [],
      "outputs_reference": null,
      "execution_count": 37,
      "block_group": "9256d1c98ffd4d41bf10a0b3458fadb4",
      "content_dependencies": null
    },
    {
      "cell_type": "markdown",
      "source": "#### Pero con slicing ésto no pasa y simplemente se ignora el espacio hueco",
      "metadata": {
        "cell_id": "fca507dcc5bd4efdb63f2ed9bbf668d2",
        "deepnote_cell_type": "markdown"
      },
      "block_group": "706173ed2a2541359603d3f4ddfe44e9"
    },
    {
      "cell_type": "code",
      "source": "palabra[:99]",
      "metadata": {
        "collapsed": false,
        "cell_id": "380e1644cbe04f228920f8c6a5774f80",
        "deepnote_cell_type": "code"
      },
      "outputs": [],
      "outputs_reference": null,
      "execution_count": 38,
      "block_group": "7909166234004d669331419b5acf3e4c",
      "content_dependencies": null
    },
    {
      "cell_type": "code",
      "source": "palabra[99:]",
      "metadata": {
        "collapsed": false,
        "cell_id": "aee2f6cacc194e759b2f3f74fe6d9a81",
        "deepnote_cell_type": "code"
      },
      "outputs": [],
      "outputs_reference": null,
      "execution_count": 39,
      "block_group": "0d943e48f9014218905dd2c40c60be45",
      "content_dependencies": null
    },
    {
      "cell_type": "markdown",
      "source": "## Inmutabilidad\nUna propiedad de las cadenas es que no se pueden modificar. Si intentamos reasignar un carácter, no nos dejará:",
      "metadata": {
        "cell_id": "515ef42ec6544abe84a9b630e5d37fda",
        "deepnote_cell_type": "markdown"
      },
      "block_group": "fab8b137e9264aa4b03492310893f66f"
    },
    {
      "cell_type": "code",
      "source": "palabra[0] = \"N\"",
      "metadata": {
        "collapsed": false,
        "cell_id": "0c30b036a7c84f54b6ec4cef4977e19a",
        "deepnote_cell_type": "code"
      },
      "outputs": [],
      "outputs_reference": null,
      "execution_count": 40,
      "block_group": "669c132d397e41d3bc47201bdddcd3c9",
      "content_dependencies": null
    },
    {
      "cell_type": "markdown",
      "source": "#### Sin embargo, utilizando slicing y concatenación podemos generar nuevas cadenas fácilmente:",
      "metadata": {
        "cell_id": "a76e0646b58f45efa0b3b271cc67f357",
        "deepnote_cell_type": "markdown"
      },
      "block_group": "9a34bf2165bb48fda1a8efbdb471e0d9"
    },
    {
      "cell_type": "code",
      "source": "palabra = \"N\" + palabra[1:]\npalabra",
      "metadata": {
        "collapsed": false,
        "cell_id": "5908cc4f2765492bad5f791bcb058194",
        "deepnote_cell_type": "code"
      },
      "outputs": [],
      "outputs_reference": null,
      "execution_count": 41,
      "block_group": "9ce4f6e1f75c4739a8a2082ff1586947",
      "content_dependencies": null
    },
    {
      "cell_type": "markdown",
      "source": "### Funciones\nUn ejemplo de función útil que soportan las cadenas es len(), que nos permite saber su longitud (el número de caracteres que contienen).",
      "metadata": {
        "cell_id": "7daf6e73e69b4da6adef6b77063c1eb3",
        "deepnote_cell_type": "markdown"
      },
      "block_group": "d5ded628fce543618aeded83c6186ef2"
    },
    {
      "cell_type": "code",
      "source": "len(palabra)",
      "metadata": {
        "collapsed": false,
        "cell_id": "2d96b6c738a243089e288ee0a9245b67",
        "deepnote_cell_type": "code"
      },
      "outputs": [],
      "outputs_reference": null,
      "execution_count": 42,
      "block_group": "ea31c4e096164efeaf838d81d89f0ecc",
      "content_dependencies": null
    },
    {
      "cell_type": "markdown",
      "source": "<a style='text-decoration:none;line-height:16px;display:flex;color:#5B5B62;padding:10px;justify-content:end;' href='https://deepnote.com?utm_source=created-in-deepnote-cell&projectId=97526811-67e8-4be1-bdce-50d79586e9d1' target=\"_blank\">\n<img alt='Created in deepnote.com' style='display:inline;max-height:16px;margin:0px;margin-right:7.5px;' src='data:image/svg+xml;base64,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' > </img>\nCreated in <span style='font-weight:600;margin-left:4px;'>Deepnote</span></a>",
      "metadata": {
        "created_in_deepnote_cell": true,
        "deepnote_cell_type": "markdown"
      }
    }
  ],
  "nbformat": 4,
  "nbformat_minor": 0,
  "metadata": {
    "deepnote_notebook_id": "4108c5eb7fb74d57aad0bcefa34a465e"
  }
}